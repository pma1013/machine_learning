{
 "cells": [
  {
   "cell_type": "code",
   "execution_count": 2,
   "metadata": {
    "collapsed": true
   },
   "outputs": [],
   "source": [
    "import numpy as np\n",
    "import pandas as pd\n",
    "import sklearn\n",
    "import seaborn as sns\n",
    "import matplotlib.pyplot as plt"
   ]
  },
  {
   "cell_type": "code",
   "execution_count": 21,
   "metadata": {
    "collapsed": true
   },
   "outputs": [],
   "source": [
    "wine_df = pd.read_csv(\"wine_train.csv\")"
   ]
  },
  {
   "cell_type": "code",
   "execution_count": 22,
   "metadata": {},
   "outputs": [
    {
     "data": {
      "text/html": [
       "<div>\n",
       "<style>\n",
       "    .dataframe thead tr:only-child th {\n",
       "        text-align: right;\n",
       "    }\n",
       "\n",
       "    .dataframe thead th {\n",
       "        text-align: left;\n",
       "    }\n",
       "\n",
       "    .dataframe tbody tr th {\n",
       "        vertical-align: top;\n",
       "    }\n",
       "</style>\n",
       "<table border=\"1\" class=\"dataframe\">\n",
       "  <thead>\n",
       "    <tr style=\"text-align: right;\">\n",
       "      <th></th>\n",
       "      <th>type</th>\n",
       "      <th>fixed.acidity</th>\n",
       "      <th>volatile.acidity</th>\n",
       "      <th>citric.acid</th>\n",
       "      <th>residual.sugar</th>\n",
       "      <th>chlorides</th>\n",
       "      <th>free.sulfur.dioxide</th>\n",
       "      <th>total.sulfur.dioxide</th>\n",
       "      <th>density</th>\n",
       "      <th>pH</th>\n",
       "      <th>sulphates</th>\n",
       "      <th>alcohol</th>\n",
       "      <th>quality</th>\n",
       "    </tr>\n",
       "  </thead>\n",
       "  <tbody>\n",
       "    <tr>\n",
       "      <th>0</th>\n",
       "      <td>W</td>\n",
       "      <td>5.8</td>\n",
       "      <td>0.180</td>\n",
       "      <td>0.37</td>\n",
       "      <td>1.1</td>\n",
       "      <td>0.036</td>\n",
       "      <td>31.0</td>\n",
       "      <td>96.0</td>\n",
       "      <td>0.98942</td>\n",
       "      <td>3.16</td>\n",
       "      <td>0.48</td>\n",
       "      <td>12.0</td>\n",
       "      <td>6</td>\n",
       "    </tr>\n",
       "    <tr>\n",
       "      <th>1</th>\n",
       "      <td>R</td>\n",
       "      <td>5.4</td>\n",
       "      <td>0.835</td>\n",
       "      <td>0.08</td>\n",
       "      <td>1.2</td>\n",
       "      <td>0.046</td>\n",
       "      <td>13.0</td>\n",
       "      <td>93.0</td>\n",
       "      <td>0.99240</td>\n",
       "      <td>3.57</td>\n",
       "      <td>0.85</td>\n",
       "      <td>13.0</td>\n",
       "      <td>7</td>\n",
       "    </tr>\n",
       "    <tr>\n",
       "      <th>2</th>\n",
       "      <td>R</td>\n",
       "      <td>7.4</td>\n",
       "      <td>0.610</td>\n",
       "      <td>0.01</td>\n",
       "      <td>2.0</td>\n",
       "      <td>0.074</td>\n",
       "      <td>13.0</td>\n",
       "      <td>38.0</td>\n",
       "      <td>0.99748</td>\n",
       "      <td>3.48</td>\n",
       "      <td>0.65</td>\n",
       "      <td>9.8</td>\n",
       "      <td>5</td>\n",
       "    </tr>\n",
       "    <tr>\n",
       "      <th>3</th>\n",
       "      <td>W</td>\n",
       "      <td>7.0</td>\n",
       "      <td>0.310</td>\n",
       "      <td>0.26</td>\n",
       "      <td>7.4</td>\n",
       "      <td>0.069</td>\n",
       "      <td>28.0</td>\n",
       "      <td>160.0</td>\n",
       "      <td>0.99540</td>\n",
       "      <td>3.13</td>\n",
       "      <td>0.46</td>\n",
       "      <td>9.8</td>\n",
       "      <td>6</td>\n",
       "    </tr>\n",
       "    <tr>\n",
       "      <th>4</th>\n",
       "      <td>W</td>\n",
       "      <td>7.9</td>\n",
       "      <td>0.350</td>\n",
       "      <td>0.36</td>\n",
       "      <td>1.6</td>\n",
       "      <td>0.038</td>\n",
       "      <td>11.0</td>\n",
       "      <td>124.0</td>\n",
       "      <td>0.99280</td>\n",
       "      <td>3.25</td>\n",
       "      <td>0.48</td>\n",
       "      <td>11.0</td>\n",
       "      <td>5</td>\n",
       "    </tr>\n",
       "  </tbody>\n",
       "</table>\n",
       "</div>"
      ],
      "text/plain": [
       "  type  fixed.acidity  volatile.acidity  citric.acid  residual.sugar  \\\n",
       "0    W            5.8             0.180         0.37             1.1   \n",
       "1    R            5.4             0.835         0.08             1.2   \n",
       "2    R            7.4             0.610         0.01             2.0   \n",
       "3    W            7.0             0.310         0.26             7.4   \n",
       "4    W            7.9             0.350         0.36             1.6   \n",
       "\n",
       "   chlorides  free.sulfur.dioxide  total.sulfur.dioxide  density    pH  \\\n",
       "0      0.036                 31.0                  96.0  0.98942  3.16   \n",
       "1      0.046                 13.0                  93.0  0.99240  3.57   \n",
       "2      0.074                 13.0                  38.0  0.99748  3.48   \n",
       "3      0.069                 28.0                 160.0  0.99540  3.13   \n",
       "4      0.038                 11.0                 124.0  0.99280  3.25   \n",
       "\n",
       "   sulphates  alcohol  quality  \n",
       "0       0.48     12.0        6  \n",
       "1       0.85     13.0        7  \n",
       "2       0.65      9.8        5  \n",
       "3       0.46      9.8        6  \n",
       "4       0.48     11.0        5  "
      ]
     },
     "execution_count": 22,
     "metadata": {},
     "output_type": "execute_result"
    }
   ],
   "source": [
    "wine_df.head()"
   ]
  },
  {
   "cell_type": "code",
   "execution_count": 23,
   "metadata": {},
   "outputs": [],
   "source": [
    "# 目的変数の設定\n",
    "Y = wine_df.quality.values\n",
    "# 説明変数の設定\n",
    "# ワイン情報からtypeとqualityを除去\n",
    "#  axis = 1 で列の削除であることを明示\n",
    "wine_df = wine_df.drop([\"type\", \"quality\"], axis=1)\n",
    "X = wine_df.as_matrix()"
   ]
  },
  {
   "cell_type": "code",
   "execution_count": 24,
   "metadata": {},
   "outputs": [
    {
     "data": {
      "text/html": [
       "<div>\n",
       "<style>\n",
       "    .dataframe thead tr:only-child th {\n",
       "        text-align: right;\n",
       "    }\n",
       "\n",
       "    .dataframe thead th {\n",
       "        text-align: left;\n",
       "    }\n",
       "\n",
       "    .dataframe tbody tr th {\n",
       "        vertical-align: top;\n",
       "    }\n",
       "</style>\n",
       "<table border=\"1\" class=\"dataframe\">\n",
       "  <thead>\n",
       "    <tr style=\"text-align: right;\">\n",
       "      <th></th>\n",
       "      <th>fixed.acidity</th>\n",
       "      <th>volatile.acidity</th>\n",
       "      <th>citric.acid</th>\n",
       "      <th>residual.sugar</th>\n",
       "      <th>chlorides</th>\n",
       "      <th>free.sulfur.dioxide</th>\n",
       "      <th>total.sulfur.dioxide</th>\n",
       "      <th>density</th>\n",
       "      <th>pH</th>\n",
       "      <th>sulphates</th>\n",
       "      <th>alcohol</th>\n",
       "    </tr>\n",
       "  </thead>\n",
       "  <tbody>\n",
       "    <tr>\n",
       "      <th>0</th>\n",
       "      <td>5.8</td>\n",
       "      <td>0.180</td>\n",
       "      <td>0.37</td>\n",
       "      <td>1.1</td>\n",
       "      <td>0.036</td>\n",
       "      <td>31.0</td>\n",
       "      <td>96.0</td>\n",
       "      <td>0.98942</td>\n",
       "      <td>3.16</td>\n",
       "      <td>0.48</td>\n",
       "      <td>12.0</td>\n",
       "    </tr>\n",
       "    <tr>\n",
       "      <th>1</th>\n",
       "      <td>5.4</td>\n",
       "      <td>0.835</td>\n",
       "      <td>0.08</td>\n",
       "      <td>1.2</td>\n",
       "      <td>0.046</td>\n",
       "      <td>13.0</td>\n",
       "      <td>93.0</td>\n",
       "      <td>0.99240</td>\n",
       "      <td>3.57</td>\n",
       "      <td>0.85</td>\n",
       "      <td>13.0</td>\n",
       "    </tr>\n",
       "    <tr>\n",
       "      <th>2</th>\n",
       "      <td>7.4</td>\n",
       "      <td>0.610</td>\n",
       "      <td>0.01</td>\n",
       "      <td>2.0</td>\n",
       "      <td>0.074</td>\n",
       "      <td>13.0</td>\n",
       "      <td>38.0</td>\n",
       "      <td>0.99748</td>\n",
       "      <td>3.48</td>\n",
       "      <td>0.65</td>\n",
       "      <td>9.8</td>\n",
       "    </tr>\n",
       "    <tr>\n",
       "      <th>3</th>\n",
       "      <td>7.0</td>\n",
       "      <td>0.310</td>\n",
       "      <td>0.26</td>\n",
       "      <td>7.4</td>\n",
       "      <td>0.069</td>\n",
       "      <td>28.0</td>\n",
       "      <td>160.0</td>\n",
       "      <td>0.99540</td>\n",
       "      <td>3.13</td>\n",
       "      <td>0.46</td>\n",
       "      <td>9.8</td>\n",
       "    </tr>\n",
       "    <tr>\n",
       "      <th>4</th>\n",
       "      <td>7.9</td>\n",
       "      <td>0.350</td>\n",
       "      <td>0.36</td>\n",
       "      <td>1.6</td>\n",
       "      <td>0.038</td>\n",
       "      <td>11.0</td>\n",
       "      <td>124.0</td>\n",
       "      <td>0.99280</td>\n",
       "      <td>3.25</td>\n",
       "      <td>0.48</td>\n",
       "      <td>11.0</td>\n",
       "    </tr>\n",
       "  </tbody>\n",
       "</table>\n",
       "</div>"
      ],
      "text/plain": [
       "   fixed.acidity  volatile.acidity  citric.acid  residual.sugar  chlorides  \\\n",
       "0            5.8             0.180         0.37             1.1      0.036   \n",
       "1            5.4             0.835         0.08             1.2      0.046   \n",
       "2            7.4             0.610         0.01             2.0      0.074   \n",
       "3            7.0             0.310         0.26             7.4      0.069   \n",
       "4            7.9             0.350         0.36             1.6      0.038   \n",
       "\n",
       "   free.sulfur.dioxide  total.sulfur.dioxide  density    pH  sulphates  \\\n",
       "0                 31.0                  96.0  0.98942  3.16       0.48   \n",
       "1                 13.0                  93.0  0.99240  3.57       0.85   \n",
       "2                 13.0                  38.0  0.99748  3.48       0.65   \n",
       "3                 28.0                 160.0  0.99540  3.13       0.46   \n",
       "4                 11.0                 124.0  0.99280  3.25       0.48   \n",
       "\n",
       "   alcohol  \n",
       "0     12.0  \n",
       "1     13.0  \n",
       "2      9.8  \n",
       "3      9.8  \n",
       "4     11.0  "
      ]
     },
     "execution_count": 24,
     "metadata": {},
     "output_type": "execute_result"
    }
   ],
   "source": [
    "wine_df.head()"
   ]
  },
  {
   "cell_type": "code",
   "execution_count": 25,
   "metadata": {
    "collapsed": true
   },
   "outputs": [],
   "source": [
    "from sklearn.ensemble import RandomForestClassifier\n",
    "from sklearn.cross_validation import cross_val_score\n",
    "\n",
    "scores = []"
   ]
  },
  {
   "cell_type": "code",
   "execution_count": 27,
   "metadata": {},
   "outputs": [
    {
     "name": "stderr",
     "output_type": "stream",
     "text": [
      "/Users/ito_akihiro/.pyenv/versions/3.5.0/envs/ml-learning/lib/python3.5/site-packages/sklearn/cross_validation.py:552: Warning: The least populated class in y has only 5 members, which is too few. The minimum number of labels for any class cannot be less than n_folds=10.\n",
      "  % (min_labels, self.n_folds)), Warning)\n"
     ]
    },
    {
     "data": {
      "text/plain": [
       "array([ 0.53985507,  0.55253623,  0.51811594,  0.57168784,  0.54909091,\n",
       "        0.5729927 ,  0.57481752,  0.58211679,  0.58029197,  0.55839416])"
      ]
     },
     "execution_count": 27,
     "metadata": {},
     "output_type": "execute_result"
    }
   ],
   "source": [
    "#木の数が2のランダムフォレストの結果を返す\n",
    "clf1 = RandomForestClassifier(n_estimators = 2)\n",
    "validated = cross_val_score(clf1, X, Y, cv=10)\n",
    "validated"
   ]
  },
  {
   "cell_type": "code",
   "execution_count": 36,
   "metadata": {},
   "outputs": [],
   "source": [
    "#1~41までの木の数のランダムフォレストを実行する。\n",
    "for val in range(1,41):\n",
    "    clf = RandomForestClassifier(n_estimators  =val)\n",
    "    validated = cross_val_score(clf, X, Y, cv =5)\n",
    "    scores.append(validated)"
   ]
  },
  {
   "cell_type": "code",
   "execution_count": 40,
   "metadata": {},
   "outputs": [
    {
     "name": "stdout",
     "output_type": "stream",
     "text": [
      "10\n"
     ]
    }
   ],
   "source": [
    "print(len(scores[0]))"
   ]
  },
  {
   "cell_type": "code",
   "execution_count": 38,
   "metadata": {},
   "outputs": [
    {
     "data": {
      "image/png": "[encoded data removed]",
      "text/plain": [
       "<matplotlib.figure.Figure at 0x11303f780>"
      ]
     },
     "metadata": {},
     "output_type": "display_data"
    }
   ],
   "source": [
    "sns.boxplot(data=scores)\n",
    "plt.xlabel('number of trees')\n",
    "plt.ylabel('Classification scores')\n",
    "plt.title('Classification score for number of trees')\n",
    "plt.show()"
   ]
  }
 ],
 "metadata": {
  "kernelspec": {
   "display_name": "Python 3",
   "language": "python",
   "name": "python3"
  },
  "language_info": {
   "codemirror_mode": {
    "name": "ipython",
    "version": 3
   },
   "file_extension": ".py",
   "mimetype": "text/x-python",
   "name": "python",
   "nbconvert_exporter": "python",
   "pygments_lexer": "ipython3",
   "version": "3.5.0"
  }
 },
 "nbformat": 4,
 "nbformat_minor": 2
}
